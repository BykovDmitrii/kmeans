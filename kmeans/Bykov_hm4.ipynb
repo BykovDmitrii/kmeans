{
 "cells": [
  {
   "cell_type": "markdown",
   "metadata": {},
   "source": [
    "# Алгоритмы интеллектуальной обработки больших объемов данных\n",
    "## Домашнее задание №4 - Метод k-средних, предобработка признаков\n"
   ]
  },
  {
   "cell_type": "markdown",
   "metadata": {},
   "source": [
    "###### <hr\\>\n",
    "**Общая информация**\n",
    "\n",
    "**Срок сдачи:** 28 ноября 2018, 06:00 <br\\>\n",
    "**Штраф за опоздание:** -2 балла после 06:00 28 ноября, -4 балла после 06:00 5 декабря, -6 баллов после 06:00 12 декабря, -8 баллов после 19 декабря\n",
    "\n",
    "При отправлении ДЗ указывайте фамилию в названии файла\n",
    "Присылать ДЗ необходимо в виде ссылки на свой github репозиторий в slack @alkhamush\n",
    "\n",
    "Необходимо в slack создать таск в приватный чат:\n",
    "/todo Фамилия Имя ссылка на гитхаб @alkhamush\n",
    "Пример:\n",
    "/todo Ксения Стройкова https://github.com/stroykova/spheremailru/stroykova_hw1.ipynb @alkhamush\n",
    "Дополнительно нужно просто скинуть ссылку в slack в личный чат\n",
    "\n",
    "Используйте данный Ipython Notebook при оформлении домашнего задания."
   ]
  },
  {
   "cell_type": "markdown",
   "metadata": {},
   "source": [
    "# Имплементация K-means\n",
    "\n",
    "Пользуясь наработками выше, имплементируйте метод k-means.  \n",
    "При инициализации необходимо задавать количество кластеров, функцию расстояния между кластерами (для оригинального k-means - евклидово расстояние) и начальное состояние генератора случайных чисел.\n",
    "\n",
    "После обучения, среди атрибутов класса `Kmeans` должны появится\n",
    "* Метки кластеров для объектов\n",
    "* Координаты центройдов кластеров\n",
    "\n",
    "k-means - это алгоритм **кластеризации**, а не классификации, а посему метод `.predict()` в нем фактически не нужен, но он может возвращать метки ближайшего кластера для объектов."
   ]
  },
  {
   "cell_type": "markdown",
   "metadata": {},
   "source": [
    "###### Задание 1 (2 баллов)\n",
    "Имплементируйте метод k-means. Задание считается выполненным, если Ваша реализация работает быстрее реализации из sklearn.\n",
    "\n",
    "Теория для выполнения задания 2 и 3 остаётся на самостоятельное изучение. Теории немного и она совсем простая.\n",
    "\n",
    "###### Задание 2 (2 балла)\n",
    "Имплементируйте класс MiniBatchKMeans, который является классом наследником Kmeans.\n",
    "\n",
    "###### Задание 3 (2 балла)\n",
    "Превратите k-means в k-means++. Для этого нужно реализовать метод в классе Kmeans, который будет инициализировать более \"хорошие\" значения центроидов. Чтобы использовался метод k-means++, в параметр init необходимо передать строковое значение 'k-means' (по умолчанию 'random').\n",
    "\n",
    "###### Задание 4 (2 балла)\n",
    "В пункте \"Проверка корректности метода\" нужно нарисовать графики, которые показывают зависимость времени выполнения алгоритма от количества сэмплов. Графики должны быть  нарисованы для различных комбинаций реализаций алгоритма (k-means, k-means++, k-means с MiniBatchKMeans, k-means++ с MiniBatchKMeans). График достаточно построить на 5-10 точках.\n",
    "\n",
    "###### Задание 5 (2 балла)\n",
    "В пункте \"Применение K-means на реальных данных\" нужно сравнить различные реализации k-means (k-means, k-means++, k-means с MiniBatchKMeans, k-means++ с MiniBatchKMeans). После чего написать вывод, в котором должно быть объяснение того, почему один алгоритм оказался лучше остальных или почему не было выявлено лучшего алгоритма.\n",
    "\n",
    "**Штрафные баллы:**\n",
    "\n",
    "1. Невыполнение PEP8 -1 балл\n",
    "2. Отсутствие фамилии в имени скрипта (скрипт должен называться по аналогии со stroykova_hw4.ipynb) -1 балл\n",
    "3. Все строчки должны быть выполнены. Нужно, чтобы output команды можно было увидеть уже в git'е. В противном случае -1 балл\n",
    "4. При оформлении ДЗ нужно пользоваться данным файлом в качестве шаблона. Не нужно удалять и видоизменять написанный код и текст. В противном случае -1 балл\n",
    "<hr\\>"
   ]
  },
  {
   "cell_type": "code",
   "execution_count": 34,
   "metadata": {},
   "outputs": [
    {
     "name": "stdout",
     "output_type": "stream",
     "text": [
      "The pycodestyle_magic extension is already loaded. To reload it, use:\n",
      "  %reload_ext pycodestyle_magic\n"
     ]
    }
   ],
   "source": [
    "import pandas as pd\n",
    "import numpy as np\n",
    "import matplotlib.pyplot as plt\n",
    "import random\n",
    "from sklearn.metrics import pairwise_distances\n",
    "\n",
    "%matplotlib inline\n",
    "\n",
    "plt.style.use('ggplot')\n",
    "plt.rcParams['figure.figsize'] = (12,5)\n",
    "\n",
    "%load_ext pycodestyle_magic"
   ]
  },
  {
   "cell_type": "code",
   "execution_count": 35,
   "metadata": {},
   "outputs": [],
   "source": [
    "#%%pycodestyle\n",
    "\n",
    "\n",
    "class MyKmeans:\n",
    "\n",
    "    def __init__(self, k=2, metric='euclidean', max_iter=300,\n",
    "                 random_state=None, init='random'):\n",
    "        \"\"\"\n",
    "        Инициализация метода\n",
    "        :k - количество кластеров\n",
    "        :metric - функция расстояния между объектами\n",
    "        :max_iter - максиальное количество итераций\n",
    "        :random_state - seed для инициализации генератора случайных чисел\n",
    "        \"\"\"\n",
    "        self.init = init\n",
    "        self.k = k\n",
    "        self.random_state = random_state\n",
    "        self.metric = metric\n",
    "        self.max_iter = max_iter\n",
    "\n",
    "    def Loss(self, X):\n",
    "        dists = pairwise_distances(X, self.centroids, metric=self.metric)\n",
    "        n = np.argmin(dists, axis=1)\n",
    "        self.labels = n\n",
    "        for i in range(self.k):\n",
    "            self.centroid_sizes[i] = X[(self.labels == i)].shape[0]\n",
    "            self.centroids[i] = X[(self.labels == i)].mean(axis=0)\n",
    "        sizes = dists[[range(dists.shape[0]), n]]\n",
    "        sqsizes = sizes ** 2\n",
    "        sums = np.zeros(self.k)\n",
    "        for i in range(self.k):\n",
    "            sums[i] = sqsizes[(self.labels == i)].sum()\n",
    "            if (sums[i] > 0):\n",
    "                sums /= self.centroid_sizes[i]\n",
    "            else:\n",
    "                rand_elemi = random.randint(0, X.shape[0])\n",
    "                self.labels[rand_elemi] = i\n",
    "                self.centroids[i] = rand_elemi\n",
    "        return sums.sum()\n",
    "\n",
    "    def initCl(self, X):\n",
    "        if (self.init == 'random'):\n",
    "            self.centroids = X[np.random.randint(0, X.shape[0], self.k)]\n",
    "        else:\n",
    "            self.centroids[0] = X[np.random.randint(0, X.shape[0], 1)]\n",
    "            for i in range(1, self.k):\n",
    "                dists = pairwise_distances(\n",
    "                    X, self.centroids[:i], metric=self.metric)\n",
    "                dists = np.min(dists, axis=1)\n",
    "                dists = (dists + 0.001) / dists.sum()\n",
    "                hm = random.random()\n",
    "                j = -1\n",
    "                while hm > 0:\n",
    "                    j += 1\n",
    "                    hm -= dists[j]\n",
    "                self.centroids[i] = X[j]\n",
    "        return self\n",
    "\n",
    "    def batch_generator(self, X):\n",
    "        return X\n",
    "\n",
    "    def fit(self, X, y=None):\n",
    "        \"\"\"\n",
    "        Процедура обучения k-means\n",
    "        \"\"\"\n",
    "\n",
    "        # Инициализация генератора случайных чисел\n",
    "        np.random.seed(self.random_state)\n",
    "\n",
    "        # Массив с метками кластеров для каждого объекта из X\n",
    "        self.labels = np.empty(X.shape[0])\n",
    "\n",
    "        # Массив с центройдами кластеров\n",
    "        self.centroids = np.empty((self.k, X.shape[1]))\n",
    "        self.centroid_sizes = np.zeros(self.k)\n",
    "        # Your Code Here\n",
    "        # ...\n",
    "        if y is not None:\n",
    "            self.labels = y\n",
    "            for i in range(self.k):\n",
    "                self.centroids[i] = X[(self.labels == i)].mean(axis=0)\n",
    "            return self\n",
    "        self.initCl(X)\n",
    "        dists = pairwise_distances(X, self.centroids, metric=self.metric)\n",
    "        self.labels = np.argmin(dists, axis=1)\n",
    "        X_b = self.batch_generator(X)\n",
    "        l1 = self.Loss(X_b)\n",
    "        l2 = self.Loss(X_b)\n",
    "        i = 0\n",
    "        while ((i < self.max_iter) and abs(l1 - l2) < 0.00001):\n",
    "            l1 = l2\n",
    "            l2 = self.Loss(X_b)\n",
    "            i += 1\n",
    "        self.Loss(X)\n",
    "        return self\n",
    "\n",
    "    def predict(self, X, y=None):\n",
    "        \"\"\"\n",
    "        Процедура предсказания кластера\n",
    "\n",
    "        Возвращает метку ближайшего кластера для каждого объекта\n",
    "        \"\"\"\n",
    "        dists = pairwise_distances(X, self.centroids, metric=self.metric)\n",
    "        return np.argmin(dists, axis=0)\n",
    "\n",
    "\n",
    "class MiniBatchKMeans(MyKmeans):\n",
    "    def __init__(self, k=2, metric='euclidean', max_iter=300,\n",
    "                 random_state=None, init='random', batch_size=100):\n",
    "        \"\"\"\n",
    "        Инициализация метода\n",
    "        :k - количество кластеров\n",
    "        :metric - функция расстояния между объектами\n",
    "        :max_iter - максиальное количество итераций\n",
    "        :random_state - seed для инициализации генератора случайных чисел\n",
    "        \"\"\"\n",
    "        self.init = init\n",
    "        self.k = k\n",
    "        self.random_state = random_state\n",
    "        self.metric = metric\n",
    "        self.max_iter = max_iter\n",
    "        self.batch_size = batch_size\n",
    "\n",
    "    def batch_generator(self, X):\n",
    "        ind_shuf = np.arange(X.shape[0])\n",
    "        np.random.shuffle(ind_shuf)\n",
    "        X_b = X[ind_shuf[:self.batch_size]]\n",
    "        return X_b"
   ]
  },
  {
   "cell_type": "markdown",
   "metadata": {},
   "source": [
    "### Проверка корректности метода\n",
    "\n",
    "Перед тем как применять алгоритм на реальных данных, нужно испытать его на простых \"игрушечных\" данных.\n",
    "\n",
    "Если алгоритм реализован правильно, то метод должен идеально разбивать на 3 кластера данные ниже. Проверьте это.\n",
    "\n",
    "ВНИМАНИЕ! Проверка должна быть осуществлена на всех реализациях, иначе реализация не будет зачтена!"
   ]
  },
  {
   "cell_type": "code",
   "execution_count": 36,
   "metadata": {},
   "outputs": [],
   "source": [
    "from sklearn.datasets import make_blobs"
   ]
  },
  {
   "cell_type": "code",
   "execution_count": 37,
   "metadata": {},
   "outputs": [],
   "source": [
    "X, y = make_blobs(n_samples=100, n_features=2, centers=3, cluster_std=1, \n",
    "           center_box=(-10.0, 10.0), shuffle=False, random_state=1234)\n",
    "#print(X)"
   ]
  },
  {
   "cell_type": "code",
   "execution_count": 38,
   "metadata": {},
   "outputs": [
    {
     "data": {
      "text/plain": [
       "<matplotlib.collections.PathCollection at 0x7f2840425b38>"
      ]
     },
     "execution_count": 38,
     "metadata": {},
     "output_type": "execute_result"
    },
    {
     "data": {
      "image/png": "[encoded data removed]",
      "text/plain": [
       "<Figure size 864x360 with 1 Axes>"
      ]
     },
     "metadata": {},
     "output_type": "display_data"
    }
   ],
   "source": [
    "plt.scatter(X[:,0], X[:, 1], c=y)"
   ]
  },
  {
   "cell_type": "markdown",
   "metadata": {},
   "source": [
    "Проверьте Вашу имплементацию на простых данных (без этого пункта ДЗ не считается выполненным).   \n",
    "КОММЕНТАРИИ НЕ СТИРАТЬ!"
   ]
  },
  {
   "cell_type": "code",
   "execution_count": 39,
   "metadata": {},
   "outputs": [
    {
     "data": {
      "text/plain": [
       "<matplotlib.collections.PathCollection at 0x7f284039e710>"
      ]
     },
     "execution_count": 39,
     "metadata": {},
     "output_type": "execute_result"
    },
    {
     "data": {
      "image/png": "[encoded data removed]",
      "text/plain": [
       "<Figure size 864x360 with 1 Axes>"
      ]
     },
     "metadata": {},
     "output_type": "display_data"
    }
   ],
   "source": [
    "## Работоспособность MyKmeans\n",
    "my_clf = MyKmeans(k=3)\n",
    "my_clf.fit(X)\n",
    "plt.scatter(X[:,0], X[:, 1], c=my_clf.labels)\n",
    "plt.scatter(my_clf.centroids[:,0], my_clf.centroids[:,1])"
   ]
  },
  {
   "cell_type": "code",
   "execution_count": 40,
   "metadata": {},
   "outputs": [
    {
     "data": {
      "text/plain": [
       "<matplotlib.collections.PathCollection at 0x7f284030e0f0>"
      ]
     },
     "execution_count": 40,
     "metadata": {},
     "output_type": "execute_result"
    },
    {
     "data": {
      "image/png": "[encoded data removed]",
      "text/plain": [
       "<Figure size 864x360 with 1 Axes>"
      ]
     },
     "metadata": {},
     "output_type": "display_data"
    }
   ],
   "source": [
    "## Работоспособность MyKMeans++\n",
    "my_clf = MyKmeans(k=3, init=\"kmeans++\")\n",
    "my_clf.fit(X)\n",
    "plt.scatter(X[:,0], X[:, 1], c=my_clf.labels)\n",
    "plt.scatter(my_clf.centroids[:,0], my_clf.centroids[:,1])"
   ]
  },
  {
   "cell_type": "code",
   "execution_count": 41,
   "metadata": {
    "scrolled": true
   },
   "outputs": [
    {
     "data": {
      "text/plain": [
       "<matplotlib.collections.PathCollection at 0x7f28402f7860>"
      ]
     },
     "execution_count": 41,
     "metadata": {},
     "output_type": "execute_result"
    },
    {
     "data": {
      "image/png": "[encoded data removed]",
      "text/plain": [
       "<Figure size 864x360 with 1 Axes>"
      ]
     },
     "metadata": {},
     "output_type": "display_data"
    }
   ],
   "source": [
    "## Работоспособность MyKmeans с MiniBatchMyKmeans\n",
    "my_clf = MiniBatchKMeans(k=3)\n",
    "my_clf.fit(X)\n",
    "plt.scatter(X[:,0], X[:, 1], c=my_clf.labels)\n",
    "plt.scatter(my_clf.centroids[:,0], my_clf.centroids[:,1])"
   ]
  },
  {
   "cell_type": "code",
   "execution_count": 42,
   "metadata": {},
   "outputs": [
    {
     "data": {
      "text/plain": [
       "<matplotlib.collections.PathCollection at 0x7f2840265198>"
      ]
     },
     "execution_count": 42,
     "metadata": {},
     "output_type": "execute_result"
    },
    {
     "data": {
      "image/png": "[encoded data removed]",
      "text/plain": [
       "<Figure size 864x360 with 1 Axes>"
      ]
     },
     "metadata": {},
     "output_type": "display_data"
    }
   ],
   "source": [
    "## Работоспособность MyKmeans++ с MiniBatchMyKmeans\n",
    "my_clf = MiniBatchKMeans(k=3, init=\"kmeans++\")\n",
    "my_clf.fit(X)\n",
    "plt.scatter(X[:,0], X[:, 1], c=my_clf.labels)\n",
    "plt.scatter(my_clf.centroids[:,0], my_clf.centroids[:,1])"
   ]
  },
  {
   "cell_type": "code",
   "execution_count": 50,
   "metadata": {},
   "outputs": [],
   "source": [
    "import time"
   ]
  },
  {
   "cell_type": "code",
   "execution_count": 51,
   "metadata": {},
   "outputs": [],
   "source": [
    "## Время выполнения алгоритма Kmeans из sklearn\n",
    "from sklearn.cluster import KMeans\n",
    "clf = KMeans(n_clusters=3)"
   ]
  },
  {
   "cell_type": "code",
   "execution_count": 52,
   "metadata": {},
   "outputs": [
    {
     "data": {
      "image/png": "[encoded data removed]",
      "text/plain": [
       "<Figure size 864x360 with 1 Axes>"
      ]
     },
     "metadata": {},
     "output_type": "display_data"
    }
   ],
   "source": [
    "i = 0\n",
    "n_samples = 1000\n",
    "times = []\n",
    "samples = []\n",
    "while (i < 7):\n",
    "    i += 1\n",
    "    t = 0\n",
    "    for j in range(100):\n",
    "        X, y = make_blobs(n_samples=n_samples, n_features=2, centers=3, cluster_std=1, \n",
    "            center_box=(-10.0, 10.0), shuffle=False, random_state=None)\n",
    "        start_time = time.time()\n",
    "        clf.fit(X)\n",
    "        t += time.time() - start_time \n",
    "    times = times + [t / 100]\n",
    "    samples = samples + [n_samples]\n",
    "    n_samples *= 2\n",
    "plt.plot(samples ,times)\n",
    "plt.show()"
   ]
  },
  {
   "cell_type": "code",
   "execution_count": 53,
   "metadata": {},
   "outputs": [],
   "source": [
    "## Время выполнения алгоритма MyKmeans\n",
    "my_clf = MyKmeans(k = 3, init=\"random\")"
   ]
  },
  {
   "cell_type": "code",
   "execution_count": 54,
   "metadata": {},
   "outputs": [
    {
     "name": "stderr",
     "output_type": "stream",
     "text": [
      "/home/dmitry/anaconda3/lib/python3.6/site-packages/ipykernel_launcher.py:27: RuntimeWarning: Mean of empty slice.\n",
      "/home/dmitry/anaconda3/lib/python3.6/site-packages/numpy/core/_methods.py:73: RuntimeWarning: invalid value encountered in true_divide\n",
      "  ret, rcount, out=ret, casting='unsafe', subok=False)\n"
     ]
    },
    {
     "data": {
      "image/png": "[encoded data removed]",
      "text/plain": [
       "<Figure size 864x360 with 1 Axes>"
      ]
     },
     "metadata": {},
     "output_type": "display_data"
    }
   ],
   "source": [
    "i = 0\n",
    "n_samples = 1000\n",
    "times = []\n",
    "samples = []\n",
    "while (i < 7):\n",
    "    i += 1\n",
    "    t = 0\n",
    "    for j in range(100):\n",
    "        X, y = make_blobs(n_samples=n_samples, n_features=2, centers=3, cluster_std=1, \n",
    "            center_box=(-10.0, 10.0), shuffle=False, random_state=None)\n",
    "        start_time = time.time()\n",
    "        my_clf.fit(X)\n",
    "        t += time.time() - start_time \n",
    "    times = times + [t / 100]\n",
    "    samples = samples + [n_samples]\n",
    "    n_samples *= 2\n",
    "plt.plot(samples ,times)\n",
    "plt.show()"
   ]
  },
  {
   "cell_type": "code",
   "execution_count": 55,
   "metadata": {},
   "outputs": [],
   "source": [
    "## Время выполнения алгоритма MyKmeans++\n",
    "my_clf = MyKmeans(k = 3, init=\"kmeans++\")"
   ]
  },
  {
   "cell_type": "code",
   "execution_count": 56,
   "metadata": {},
   "outputs": [
    {
     "data": {
      "image/png": "[encoded data removed]",
      "text/plain": [
       "<Figure size 864x360 with 1 Axes>"
      ]
     },
     "metadata": {},
     "output_type": "display_data"
    }
   ],
   "source": [
    "i = 0\n",
    "n_samples = 1000\n",
    "times = []\n",
    "samples = []\n",
    "while (i < 7):\n",
    "    i += 1\n",
    "    t = 0\n",
    "    for j in range(100):\n",
    "        X, y = make_blobs(n_samples=n_samples, n_features=2, centers=3, cluster_std=1, \n",
    "            center_box=(-10.0, 10.0), shuffle=False, random_state=None)\n",
    "        start_time = time.time()\n",
    "        my_clf.fit(X)\n",
    "        t += time.time() - start_time \n",
    "    times = times + [t / 100]\n",
    "    samples = samples + [n_samples]\n",
    "    n_samples *= 2\n",
    "plt.plot(samples ,times)\n",
    "plt.show()"
   ]
  },
  {
   "cell_type": "code",
   "execution_count": 57,
   "metadata": {},
   "outputs": [],
   "source": [
    "## Время выполнения алгоритма MyKmeans с MiniBatchMyKmeans\n",
    "my_clf = MiniBatchKMeans(k = 3, init=\"random\")"
   ]
  },
  {
   "cell_type": "code",
   "execution_count": 58,
   "metadata": {},
   "outputs": [
    {
     "name": "stderr",
     "output_type": "stream",
     "text": [
      "/home/dmitry/anaconda3/lib/python3.6/site-packages/ipykernel_launcher.py:27: RuntimeWarning: Mean of empty slice.\n",
      "/home/dmitry/anaconda3/lib/python3.6/site-packages/numpy/core/_methods.py:73: RuntimeWarning: invalid value encountered in true_divide\n",
      "  ret, rcount, out=ret, casting='unsafe', subok=False)\n"
     ]
    },
    {
     "data": {
      "image/png": "[encoded data removed]",
      "text/plain": [
       "<Figure size 864x360 with 1 Axes>"
      ]
     },
     "metadata": {},
     "output_type": "display_data"
    }
   ],
   "source": [
    "i = 0\n",
    "n_samples = 1000\n",
    "times = []\n",
    "samples = []\n",
    "while (i < 7):\n",
    "    i += 1\n",
    "    t = 0\n",
    "    for j in range(100):\n",
    "        X, y = make_blobs(n_samples=n_samples, n_features=2, centers=3, cluster_std=1, \n",
    "            center_box=(-10.0, 10.0), shuffle=False, random_state=None)\n",
    "        start_time = time.time()\n",
    "        my_clf.fit(X)\n",
    "        t += time.time() - start_time \n",
    "    times = times + [t / 100]\n",
    "    samples = samples + [n_samples]\n",
    "    n_samples *= 2\n",
    "plt.plot(samples ,times)\n",
    "plt.show()"
   ]
  },
  {
   "cell_type": "code",
   "execution_count": 59,
   "metadata": {
    "scrolled": true
   },
   "outputs": [],
   "source": [
    "## Время выполнения алгоритма  MyKmeans++ с MiniBatchMyKmeans\n",
    "my_clf = MiniBatchKMeans(k = 3, init=\"kmeans++\")"
   ]
  },
  {
   "cell_type": "code",
   "execution_count": 60,
   "metadata": {},
   "outputs": [
    {
     "name": "stderr",
     "output_type": "stream",
     "text": [
      "/home/dmitry/anaconda3/lib/python3.6/site-packages/ipykernel_launcher.py:27: RuntimeWarning: Mean of empty slice.\n",
      "/home/dmitry/anaconda3/lib/python3.6/site-packages/numpy/core/_methods.py:73: RuntimeWarning: invalid value encountered in true_divide\n",
      "  ret, rcount, out=ret, casting='unsafe', subok=False)\n"
     ]
    },
    {
     "data": {
      "image/png": "[encoded data removed]",
      "text/plain": [
       "<Figure size 864x360 with 1 Axes>"
      ]
     },
     "metadata": {},
     "output_type": "display_data"
    }
   ],
   "source": [
    "i = 0\n",
    "n_samples = 1000\n",
    "times = []\n",
    "samples = []\n",
    "while (i < 7):\n",
    "    i += 1\n",
    "    t = 0\n",
    "    for j in range(100):\n",
    "        X, y = make_blobs(n_samples=n_samples, n_features=2, centers=3, cluster_std=1, \n",
    "            center_box=(-10.0, 10.0), shuffle=False, random_state=None)\n",
    "        start_time = time.time()\n",
    "        my_clf.fit(X)\n",
    "        t += time.time() - start_time \n",
    "    times = times + [t / 100]\n",
    "    samples = samples + [n_samples]\n",
    "    n_samples *= 2\n",
    "plt.plot(samples ,times)\n",
    "plt.show()"
   ]
  },
  {
   "cell_type": "markdown",
   "metadata": {},
   "source": [
    "# Применение K-means на реальных данных"
   ]
  },
  {
   "cell_type": "markdown",
   "metadata": {},
   "source": [
    "Загрузите [данные](https://github.com/brenden17/sklearnlab/blob/master/facebook/snsdata.csv) в которых содержится описание интересов профилей учеников старшей школы США.  (без этого пункта задание не считается выполненным).   \n",
    "ВНИМАНИЕ! Проверка должна быть осуществлена на всех реализациях, иначе реализация не будет зачтена!"
   ]
  },
  {
   "cell_type": "code",
   "execution_count": 15,
   "metadata": {},
   "outputs": [],
   "source": [
    "df_sns = pd.read_csv('snsdata.csv', sep=',')\n",
    "df_sns.head()\n",
    "df = df_sns.drop(['gradyear', 'gender', 'age', 'friends'], axis=1)\n",
    "#df.shape\n",
    "#df.head"
   ]
  },
  {
   "cell_type": "markdown",
   "metadata": {},
   "source": [
    "Данные устроены так: \n",
    "* Год выпуска\n",
    "* Пол\n",
    "* Возраст\n",
    "* Количество друзей\n",
    "* 36 ключевых слов, которые встречаются в профилe facebook (интересы, сообщества, встречи)"
   ]
  },
  {
   "cell_type": "markdown",
   "metadata": {},
   "source": [
    "* Удалите все признаки кроме 36 ключевых слов.\n",
    "* Нормализуйте данные - из каждого столбца вычтите его среднее значение и поделите на стандартное отклонение.\n",
    "* Используйте метод k-means чтобы выделить 9 кластеров\n",
    "* Попробуйте проинтерпретировать каждый кластер проанализировав полученные центройды (Некоторые кластеры могут быть очень большие и очень маленькие - плохо интерпретируются)   \n",
    "КОММЕНТАРИИ НЕ СТИРАТЬ!"
   ]
  },
  {
   "cell_type": "code",
   "execution_count": 16,
   "metadata": {},
   "outputs": [],
   "source": [
    "X = np.array(df).astype(float)\n",
    "X = (X - X.mean(axis=0).reshape(1, -1)) / (np.abs(X.std(axis=0)) + 0.0001).reshape(1, -1)"
   ]
  },
  {
   "cell_type": "code",
   "execution_count": 17,
   "metadata": {
    "scrolled": true
   },
   "outputs": [
    {
     "data": {
      "text/plain": [
       "KMeans(algorithm='auto', copy_x=True, init='random', max_iter=300,\n",
       "    n_clusters=9, n_init=10, n_jobs=1, precompute_distances='auto',\n",
       "    random_state=None, tol=0.0001, verbose=0)"
      ]
     },
     "execution_count": 17,
     "metadata": {},
     "output_type": "execute_result"
    }
   ],
   "source": [
    "## MyKMeans\n",
    "my_clf = MyKmeans(k=9)\n",
    "clf = KMeans(n_clusters=9, init='random')\n",
    "my_clf.fit(X)\n",
    "clf.fit(X)"
   ]
  },
  {
   "cell_type": "code",
   "execution_count": 18,
   "metadata": {},
   "outputs": [
    {
     "name": "stdout",
     "output_type": "stream",
     "text": [
      "16561.0 1744.0 2834.0 819.0 1991.0 321.0 580.0 3092.0 2058.0\n"
     ]
    }
   ],
   "source": [
    "print(*my_clf.centroid_sizes)"
   ]
  },
  {
   "cell_type": "code",
   "execution_count": 19,
   "metadata": {},
   "outputs": [
    {
     "name": "stdout",
     "output_type": "stream",
     "text": [
      "20172\n",
      "926\n",
      "834\n",
      "1287\n",
      "583\n",
      "432\n",
      "974\n",
      "4791\n",
      "1\n"
     ]
    }
   ],
   "source": [
    "for i in range(9):\n",
    "    print((i == clf.labels_).sum())"
   ]
  },
  {
   "cell_type": "code",
   "execution_count": 20,
   "metadata": {
    "scrolled": true
   },
   "outputs": [],
   "source": [
    "#my_clf.centroids"
   ]
  },
  {
   "cell_type": "code",
   "execution_count": 21,
   "metadata": {},
   "outputs": [],
   "source": [
    "#clf.cluster_centers_"
   ]
  },
  {
   "cell_type": "code",
   "execution_count": 22,
   "metadata": {},
   "outputs": [
    {
     "data": {
      "text/plain": [
       "array([0, 1, 0, ..., 0, 0, 0])"
      ]
     },
     "execution_count": 22,
     "metadata": {},
     "output_type": "execute_result"
    }
   ],
   "source": [
    "my_clf.labels"
   ]
  },
  {
   "cell_type": "code",
   "execution_count": 23,
   "metadata": {},
   "outputs": [
    {
     "name": "stdout",
     "output_type": "stream",
     "text": [
      "0 music       0.393153\n",
      "god         0.289656\n",
      "dance       0.202041\n",
      "football    0.160679\n",
      "soccer      0.148723\n",
      "Name: 0, dtype: float64\n",
      "size=16561.0\n",
      "1 basketball    1.301606\n",
      "dress         1.248853\n",
      "dance         0.885894\n",
      "music         0.774083\n",
      "hair          0.613532\n",
      "Name: 1, dtype: float64\n",
      "size=1744.0\n",
      "2 shopping    1.556104\n",
      "music       0.822512\n",
      "dance       0.712773\n",
      "hair        0.636203\n",
      "mall        0.555399\n",
      "Name: 2, dtype: float64\n",
      "size=2834.0\n",
      "3 hair      3.472527\n",
      "sex       2.782662\n",
      "music     2.401709\n",
      "die       1.757021\n",
      "kissed    1.639805\n",
      "Name: 3, dtype: float64\n",
      "size=819.0\n",
      "4 rock     1.805123\n",
      "music    1.303365\n",
      "god      0.598192\n",
      "dance    0.492717\n",
      "band     0.486690\n",
      "Name: 4, dtype: float64\n",
      "size=1991.0\n",
      "5 god       5.333333\n",
      "church    3.984424\n",
      "jesus     2.292835\n",
      "music     1.021807\n",
      "bible     0.859813\n",
      "Name: 5, dtype: float64\n",
      "size=321.0\n",
      "6 mall     3.431034\n",
      "cute     1.318966\n",
      "hair     1.236207\n",
      "music    1.058621\n",
      "dance    0.967241\n",
      "Name: 6, dtype: float64\n",
      "size=580.0\n",
      "7 music    1.563713\n",
      "cute     1.342820\n",
      "band     1.077943\n",
      "dance    0.838292\n",
      "hair     0.630336\n",
      "Name: 7, dtype: float64\n",
      "size=3092.0\n",
      "8 swimming    1.446550\n",
      "music       0.779397\n",
      "shopping    0.465500\n",
      "god         0.445578\n",
      "hair        0.377551\n",
      "Name: 8, dtype: float64\n",
      "size=2058.0\n"
     ]
    }
   ],
   "source": [
    "df.loc[:, 'labels'] = my_clf.labels\n",
    "clusters = df.groupby('labels').mean()\n",
    "clusters\n",
    "for k in range(9):\n",
    "    print(k, clusters.loc[k].sort_values(ascending=False).head(5))\n",
    "    print('size='+str(my_clf.centroid_sizes[k]))"
   ]
  },
  {
   "cell_type": "code",
   "execution_count": 24,
   "metadata": {},
   "outputs": [
    {
     "data": {
      "text/plain": [
       "array([0, 7, 0, ..., 0, 0, 0], dtype=int32)"
      ]
     },
     "execution_count": 24,
     "metadata": {},
     "output_type": "execute_result"
    }
   ],
   "source": [
    "clf.labels_"
   ]
  },
  {
   "cell_type": "code",
   "execution_count": 25,
   "metadata": {},
   "outputs": [
    {
     "data": {
      "text/plain": [
       "KMeans(algorithm='auto', copy_x=True, init='k-means++', max_iter=300,\n",
       "    n_clusters=9, n_init=10, n_jobs=1, precompute_distances='auto',\n",
       "    random_state=None, tol=0.0001, verbose=0)"
      ]
     },
     "execution_count": 25,
     "metadata": {},
     "output_type": "execute_result"
    }
   ],
   "source": [
    "## MyKMeans++\n",
    "my_clf = MyKmeans(k=9, init='kmeans++')\n",
    "clf = KMeans(n_clusters=9)\n",
    "my_clf.fit(X)\n",
    "clf.fit(X)"
   ]
  },
  {
   "cell_type": "code",
   "execution_count": 26,
   "metadata": {},
   "outputs": [
    {
     "name": "stdout",
     "output_type": "stream",
     "text": [
      "3461.0 3365.0 1345.0 16637.0 1357.0 206.0 556.0 732.0 2341.0\n"
     ]
    }
   ],
   "source": [
    "print(*my_clf.centroid_sizes)"
   ]
  },
  {
   "cell_type": "code",
   "execution_count": 27,
   "metadata": {
    "scrolled": true
   },
   "outputs": [
    {
     "name": "stdout",
     "output_type": "stream",
     "text": [
      "4623\n",
      "2224\n",
      "19514\n",
      "494\n",
      "1\n",
      "850\n",
      "792\n",
      "573\n",
      "929\n"
     ]
    }
   ],
   "source": [
    "for i in range(9):\n",
    "    print((i == clf.labels_).sum())"
   ]
  },
  {
   "cell_type": "code",
   "execution_count": 28,
   "metadata": {},
   "outputs": [
    {
     "data": {
      "text/plain": [
       "array([3, 1, 3, ..., 3, 3, 1])"
      ]
     },
     "execution_count": 28,
     "metadata": {},
     "output_type": "execute_result"
    }
   ],
   "source": [
    "my_clf.labels"
   ]
  },
  {
   "cell_type": "code",
   "execution_count": 29,
   "metadata": {},
   "outputs": [
    {
     "data": {
      "text/plain": [
       "array([2, 6, 2, ..., 2, 2, 2], dtype=int32)"
      ]
     },
     "execution_count": 29,
     "metadata": {},
     "output_type": "execute_result"
    }
   ],
   "source": [
    "clf.labels_"
   ]
  },
  {
   "cell_type": "code",
   "execution_count": 30,
   "metadata": {},
   "outputs": [
    {
     "name": "stdout",
     "output_type": "stream",
     "text": [
      "0 music    2.225657\n",
      "band     1.301069\n",
      "dance    0.610517\n",
      "rock     0.541173\n",
      "god      0.469806\n",
      "Name: 0, dtype: float64\n",
      "size=3461.0\n",
      "1 basketball    1.195840\n",
      "softball      0.664190\n",
      "music         0.634473\n",
      "god           0.611293\n",
      "hair          0.565527\n",
      "Name: 1, dtype: float64\n",
      "size=3365.0\n",
      "2 church      2.744981\n",
      "god         1.833457\n",
      "jesus       0.910037\n",
      "music       0.880297\n",
      "shopping    0.531599\n",
      "Name: 2, dtype: float64\n",
      "size=1345.0\n",
      "3 music       0.326381\n",
      "god         0.246920\n",
      "cute        0.201178\n",
      "shopping    0.184709\n",
      "dance       0.173108\n",
      "Name: 3, dtype: float64\n",
      "size=16637.0\n",
      "4 football      2.487841\n",
      "music         0.627856\n",
      "basketball    0.540899\n",
      "soccer        0.488578\n",
      "god           0.397200\n",
      "Name: 4, dtype: float64\n",
      "size=1357.0\n",
      "5 god       5.082524\n",
      "sex       3.393204\n",
      "blonde    1.917476\n",
      "hair      1.907767\n",
      "music     1.902913\n",
      "Name: 5, dtype: float64\n",
      "size=206.0\n",
      "6 dance       6.300360\n",
      "music       1.138489\n",
      "hair        0.803957\n",
      "cute        0.694245\n",
      "shopping    0.674460\n",
      "Name: 6, dtype: float64\n",
      "size=556.0\n",
      "7 hair        2.592896\n",
      "music       2.133880\n",
      "rock        1.792350\n",
      "baseball    1.711749\n",
      "sex         1.631148\n",
      "Name: 7, dtype: float64\n",
      "size=732.0\n",
      "8 hair        1.378471\n",
      "mall        1.341307\n",
      "shopping    1.091841\n",
      "cute        0.996583\n",
      "music       0.958565\n",
      "Name: 8, dtype: float64\n",
      "size=2341.0\n"
     ]
    }
   ],
   "source": [
    "df.loc[:, 'labels'] = my_clf.labels\n",
    "clusters = df.groupby('labels').mean()\n",
    "clusters\n",
    "for k in range(9):\n",
    "    print(k, clusters.loc[k].sort_values(ascending=False).head(5))\n",
    "    print('size='+str(my_clf.centroid_sizes[k]))"
   ]
  },
  {
   "cell_type": "code",
   "execution_count": 31,
   "metadata": {
    "scrolled": true
   },
   "outputs": [
    {
     "name": "stdout",
     "output_type": "stream",
     "text": [
      "5810.0 3218.0 1106.0 505.0 398.0 681.0 518.0 2256.0 15508.0\n"
     ]
    },
    {
     "data": {
      "text/plain": [
       "array([8, 5, 0, ..., 8, 8, 0])"
      ]
     },
     "execution_count": 31,
     "metadata": {},
     "output_type": "execute_result"
    }
   ],
   "source": [
    "## MyKMeans с MiniBatchMyKMeans\n",
    "my_clf = MiniBatchKMeans(k=9, batch_size=2000)\n",
    "my_clf.fit(X)\n",
    "print(*my_clf.centroid_sizes)\n",
    "my_clf.labels"
   ]
  },
  {
   "cell_type": "code",
   "execution_count": 32,
   "metadata": {},
   "outputs": [
    {
     "name": "stdout",
     "output_type": "stream",
     "text": [
      "0 music    1.780207\n",
      "dance    0.597246\n",
      "god      0.519621\n",
      "band     0.431325\n",
      "hair     0.398623\n",
      "Name: 0, dtype: float64\n",
      "size=5810.0\n",
      "1 shopping      1.512119\n",
      "basketball    0.776569\n",
      "music         0.699503\n",
      "mall          0.644189\n",
      "dance         0.601616\n",
      "Name: 1, dtype: float64\n",
      "size=3218.0\n",
      "2 cheerleading    1.933092\n",
      "die             0.958409\n",
      "dance           0.913201\n",
      "hair            0.744123\n",
      "music           0.709765\n",
      "Name: 2, dtype: float64\n",
      "size=1106.0\n",
      "3 cute     3.526733\n",
      "hair     2.271287\n",
      "dance    1.419802\n",
      "mall     1.364356\n",
      "music    1.130693\n",
      "Name: 3, dtype: float64\n",
      "size=505.0\n",
      "4 band        6.005025\n",
      "marching    1.846734\n",
      "music       1.419598\n",
      "god         0.575377\n",
      "dance       0.507538\n",
      "Name: 4, dtype: float64\n",
      "size=398.0\n",
      "5 hair      3.249633\n",
      "music     3.076358\n",
      "sex       2.767988\n",
      "rock      2.553598\n",
      "kissed    1.593245\n",
      "Name: 5, dtype: float64\n",
      "size=681.0\n",
      "6 hot      2.716216\n",
      "music    0.990347\n",
      "hair     0.918919\n",
      "dance    0.793436\n",
      "cute     0.685328\n",
      "Name: 6, dtype: float64\n",
      "size=518.0\n",
      "7 god         1.503103\n",
      "sports      1.078457\n",
      "church      0.998227\n",
      "music       0.820479\n",
      "football    0.785018\n",
      "Name: 7, dtype: float64\n",
      "size=2256.0\n",
      "8 god      0.250967\n",
      "music    0.203830\n",
      "dance    0.185001\n",
      "hair     0.161207\n",
      "cute     0.159273\n",
      "Name: 8, dtype: float64\n",
      "size=15508.0\n"
     ]
    }
   ],
   "source": [
    "df.loc[:, 'labels'] = my_clf.labels\n",
    "clusters = df.groupby('labels').mean()\n",
    "clusters\n",
    "for k in range(9):\n",
    "    print(k, clusters.loc[k].sort_values(ascending=False).head(5))\n",
    "    print('size=' + str(my_clf.centroid_sizes[k]))"
   ]
  },
  {
   "cell_type": "code",
   "execution_count": 33,
   "metadata": {},
   "outputs": [
    {
     "name": "stdout",
     "output_type": "stream",
     "text": [
      "1466.0 1014.0 1263.0 22290.0 1149.0 17.0 264.0 969.0 1568.0\n"
     ]
    },
    {
     "data": {
      "text/plain": [
       "array([3, 2, 3, ..., 3, 3, 3])"
      ]
     },
     "execution_count": 33,
     "metadata": {},
     "output_type": "execute_result"
    }
   ],
   "source": [
    "## MyKMeans++ с MiniBatchMyKMeans\n",
    "my_clf = MiniBatchKMeans(k=9, init='kmeans++', batch_size=2000)\n",
    "my_clf.fit(X)\n",
    "print(*my_clf.centroid_sizes)\n",
    "my_clf.labels"
   ]
  },
  {
   "cell_type": "code",
   "execution_count": 34,
   "metadata": {},
   "outputs": [
    {
     "name": "stdout",
     "output_type": "stream",
     "text": [
      "0 cute        1.530696\n",
      "shopping    1.373124\n",
      "mall        1.178035\n",
      "music       1.004093\n",
      "hair        0.948158\n",
      "Name: 0, dtype: float64\n",
      "size=1466.0\n",
      "1 hot         1.663708\n",
      "baseball    1.156805\n",
      "dance       0.975345\n",
      "music       0.873767\n",
      "hair        0.609467\n",
      "Name: 1, dtype: float64\n",
      "size=1014.0\n",
      "2 dress    1.330166\n",
      "dance    0.929533\n",
      "music    0.914489\n",
      "drunk    0.821853\n",
      "hair     0.753761\n",
      "Name: 2, dtype: float64\n",
      "size=1263.0\n",
      "3 music       0.599058\n",
      "god         0.362898\n",
      "dance       0.300763\n",
      "shopping    0.240601\n",
      "hair        0.222118\n",
      "Name: 3, dtype: float64\n",
      "size=22290.0\n",
      "4 basketball    2.587467\n",
      "volleyball    1.668407\n",
      "softball      0.947781\n",
      "music         0.772846\n",
      "god           0.584856\n",
      "Name: 4, dtype: float64\n",
      "size=1149.0\n",
      "5 sex            12.294118\n",
      "hair           10.000000\n",
      "music           6.647059\n",
      "drugs           3.117647\n",
      "abercrombie     3.117647\n",
      "Name: 5, dtype: float64\n",
      "size=17.0\n",
      "6 band        5.939394\n",
      "marching    2.401515\n",
      "music       1.500000\n",
      "dance       0.575758\n",
      "god         0.537879\n",
      "Name: 6, dtype: float64\n",
      "size=264.0\n",
      "7 hair      3.209494\n",
      "sex       2.310630\n",
      "music     2.218782\n",
      "kissed    1.699690\n",
      "rock      1.245614\n",
      "Name: 7, dtype: float64\n",
      "size=969.0\n",
      "8 football    1.845663\n",
      "music       1.098214\n",
      "god         0.896046\n",
      "sports      0.871811\n",
      "soccer      0.749362\n",
      "Name: 8, dtype: float64\n",
      "size=1568.0\n"
     ]
    }
   ],
   "source": [
    "df.loc[:, 'labels'] = my_clf.labels\n",
    "clusters = df.groupby('labels').mean()\n",
    "clusters\n",
    "for k in range(9):\n",
    "    print(k, clusters.loc[k].sort_values(ascending=False).head(5))\n",
    "    print('size=' + str(my_clf.centroid_sizes[k]))"
   ]
  },
  {
   "cell_type": "code",
   "execution_count": 35,
   "metadata": {},
   "outputs": [],
   "source": [
    "## Вывод\n",
    "Интерпретация kmeans++ (2ой) \n",
    "0ой кластер музыканты \n",
    "1ый кластер баскетболисты + софтболисты(по гуглу это что-то типо бейсбола)\n",
    "2ой верующие\n",
    "3ий очень большой кластер, и признаки сильно усреднены, но в большинстве инетресуются музыкой и богом\n",
    "4ый любители американского футбола\n",
    "5ый очень маленький кластер; инересуются богом и еще сэксом(на них большой разрыв)\n",
    "6ой любители потанцевать\n",
    "7ой интересуются музыкой бейсболом волосами и сэксом(наверное те у кого нет особых увлечений)\n",
    "8ой возможно любители ходить по салонам красоты\n"
   ]
  },
  {
   "cell_type": "code",
   "execution_count": null,
   "metadata": {},
   "outputs": [],
   "source": [
    "на мой взгляд на этих данных все алогритмы проявили себе кроме miniBatch kmeans++ проявили себя\n",
    "+- одинаково(элементоы распределены по кластерам примерно одинаково, есть один очень большой кластер и пара маленькх),\n",
    "но на других запусках miniBatch kmeans++ не был так плох, поэтому на мой взгляд все алгоритмы примерно равны \n",
    "и сильно зависят от качества рандомной инициализации\n"
   ]
  }
 ],
 "metadata": {
  "anaconda-cloud": {},
  "kernelspec": {
   "display_name": "Python 3",
   "language": "python",
   "name": "python3"
  },
  "language_info": {
   "codemirror_mode": {
    "name": "ipython",
    "version": 3
   },
   "file_extension": ".py",
   "mimetype": "text/x-python",
   "name": "python",
   "nbconvert_exporter": "python",
   "pygments_lexer": "ipython3",
   "version": "3.6.5"
  },
  "nav_menu": {},
  "toc": {
   "navigate_menu": true,
   "number_sections": false,
   "sideBar": true,
   "threshold": 6,
   "toc_cell": false,
   "toc_section_display": "block",
   "toc_window_display": true
  }
 },
 "nbformat": 4,
 "nbformat_minor": 2
}
